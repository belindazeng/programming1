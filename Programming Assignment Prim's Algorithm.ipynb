{
 "cells": [
  {
   "cell_type": "code",
   "execution_count": 1,
   "metadata": {
    "collapsed": true
   },
   "outputs": [],
   "source": [
    "import numpy as np\n",
    "import pandas as pd\n",
    "import math\n",
    "import random\n",
    "import matplotlib.pyplot as plt\n",
    "def mean(numbers):\n",
    "    return float(sum(numbers)) / max(len(numbers), 1)\n",
    "import collections\n",
    "from collections import Counter\n",
    "import seaborn as sns\n",
    "%matplotlib inline"
   ]
  },
  {
   "cell_type": "code",
   "execution_count": 70,
   "metadata": {
    "collapsed": true
   },
   "outputs": [],
   "source": [
    "# for a complete graph, m = O(n^2)\n",
    "# create a graph, matrix representation\n",
    "def create_complete_graph(n):\n",
    "    vs = list(range(0, n))\n",
    "    graph = np.random.random_sample((n,n))\n",
    "    # ensure no self edges\n",
    "    for v in vs:\n",
    "        graph[v][v] = float(\"inf\")\n",
    "    \n",
    "    graph_symm = (graph + graph.T)/2\n",
    "    # needs to be symmetric though\n",
    "    \n",
    "    return graph_symm"
   ]
  },
  {
   "cell_type": "code",
   "execution_count": 42,
   "metadata": {
    "collapsed": true
   },
   "outputs": [],
   "source": [
    "\"\"\"\n",
    "Delete min dict\n",
    "input: {s:0}\n",
    "deletes smallest priority element\n",
    "\"\"\"\n",
    "def delete_min_dict(H):\n",
    "    v = min(H, key=H.get)\n",
    "    edge_weight = H[v]\n",
    "    del H[v]\n",
    "    return v, edge_weight, H"
   ]
  },
  {
   "cell_type": "code",
   "execution_count": 71,
   "metadata": {
    "collapsed": false
   },
   "outputs": [
    {
     "name": "stdout",
     "output_type": "stream",
     "text": [
      "s 0 {'a': 100, 'b': 3}\n"
     ]
    }
   ],
   "source": [
    "v, edge_weight, H = delete_min_dict({\"s\":0, \"a\": 100, \"b\": 3})\n",
    "print v, edge_weight, H"
   ]
  },
  {
   "cell_type": "code",
   "execution_count": 113,
   "metadata": {
    "collapsed": false
   },
   "outputs": [],
   "source": [
    "\"\"\"\n",
    "Prim's algorithm\n",
    "\"\"\"\n",
    "def prim(graph, n):\n",
    "    # keep \n",
    "    dist= collections.defaultdict(int)\n",
    "    # keep track of previous node for each vertex v\n",
    "    prev = collections.defaultdict(int)\n",
    "    vs = list(range(0, n))\n",
    "    for v in vs:\n",
    "        dist[v] = float(\"inf\")\n",
    "    s = 0\n",
    "    dist[s] = 0\n",
    "\n",
    "    # for now, heap to keep track of what to add is just an array\n",
    "    H = {s:0}\n",
    "    T = {}\n",
    "    while H != {}:\n",
    "        v, edge_weight, H = delete_min_dict(H)\n",
    "        T[v] = edge_weight\n",
    "        # loop through all the edges of graph (v,w) not already connected in the current tree\n",
    "        \n",
    "        nodes_in_other_cut = list(set(range(0,n)) - set(T.keys()))\n",
    "        for w in nodes_in_other_cut:\n",
    "            \n",
    "            weight_vw = graph[v][w]\n",
    "            \n",
    "            if dist[w] > weight_vw:\n",
    "                dist[w] = weight_vw\n",
    "                prev[w] = v\n",
    "                # replace later with distance of w\n",
    "                H[w] = dist[w]\n",
    "    return T\n",
    "            "
   ]
  },
  {
   "cell_type": "code",
   "execution_count": 114,
   "metadata": {
    "collapsed": false
   },
   "outputs": [
    {
     "data": {
      "text/plain": [
       "array([[        inf,  0.58285393,  0.35155362,  0.57637902],\n",
       "       [ 0.58285393,         inf,  0.57607537,  0.2994089 ],\n",
       "       [ 0.35155362,  0.57607537,         inf,  0.65271246],\n",
       "       [ 0.57637902,  0.2994089 ,  0.65271246,         inf]])"
      ]
     },
     "execution_count": 114,
     "metadata": {},
     "output_type": "execute_result"
    }
   ],
   "source": [
    "# graph with nodes {0, .., n}, 0 represents no edge, and otherwise it's the weight\n",
    "graph = create_complete_graph(4)\n",
    "graph"
   ]
  },
  {
   "cell_type": "code",
   "execution_count": 115,
   "metadata": {
    "collapsed": false
   },
   "outputs": [
    {
     "data": {
      "text/plain": [
       "{0: 0, 1: 0.57607536615015842, 2: 0.35155361887775344, 3: 0.29940889988905767}"
      ]
     },
     "execution_count": 115,
     "metadata": {},
     "output_type": "execute_result"
    }
   ],
   "source": [
    "T = prim(graph, 4)\n",
    "T"
   ]
  },
  {
   "cell_type": "code",
   "execution_count": null,
   "metadata": {
    "collapsed": true
   },
   "outputs": [],
   "source": []
  }
 ],
 "metadata": {
  "kernelspec": {
   "display_name": "Python 2",
   "language": "python",
   "name": "python2"
  },
  "language_info": {
   "codemirror_mode": {
    "name": "ipython",
    "version": 2
   },
   "file_extension": ".py",
   "mimetype": "text/x-python",
   "name": "python",
   "nbconvert_exporter": "python",
   "pygments_lexer": "ipython2",
   "version": "2.7.10"
  }
 },
 "nbformat": 4,
 "nbformat_minor": 2
}
